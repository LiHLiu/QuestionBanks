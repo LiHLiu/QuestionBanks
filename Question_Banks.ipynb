{
 "cells": [
  {
   "cell_type": "markdown",
   "id": "a1733f9a",
   "metadata": {},
   "source": [
    "# 基于大语言模型的题库生成器\n",
    "\n",
    "### 1. 获取 API key 并创建调用 API 的函数\n",
    "\n",
    "首先使用`pip install dashscope`安装阿里云百炼的 Python SDK\n",
    "\n",
    "然后导入相关依赖包，使用`getpass`输入api_key"
   ]
  },
  {
   "cell_type": "code",
   "execution_count": 1,
   "id": "ff691491",
   "metadata": {},
   "outputs": [],
   "source": [
    "from getpass import getpass\n",
    "from dashscope import Generation\n",
    "import os\n",
    "# 安全获取API Key（输入时不显示明文）\n",
    "# api_key = getpass(\"请输入阿里云百炼API Key: \")\n",
    "api_key = \"sk-c64994ca9f9741888dc7bccdef2aa0a1\"\n",
    "os.environ[\"DASHSCOPE_API_KEY\"] = api_key\n",
    "Generation.api_key = api_key\n"
   ]
  },
  {
   "cell_type": "markdown",
   "id": "8c18fc15",
   "metadata": {},
   "source": [
    "### 2. 通过关键词检索知识库，并获取相应的文段\n",
    "\n",
    "使用`pip install pypdf faiss-cpu`安装依赖包\n",
    "\n",
    "#### 2.1 初步创建向量数据库，根据所选文件进行切分和向量化\n",
    "#### 2.2 加载已有的向量数据库并添加新文档\n",
    "#### 2.3 根据关键词检索数据库"
   ]
  },
  {
   "cell_type": "code",
   "execution_count": 2,
   "id": "ffc6d304",
   "metadata": {},
   "outputs": [],
   "source": [
    "### 完整RAG流程测试\n",
    "# import RAG_vector_store\n",
    "\n",
    "# RAG_vector_store.create_vector_store(\"./data/sample.pdf\")\n",
    "# RAG_vector_store.add_new_documents_to_vector_store(\"./data/alibaba-2.txt\")\n",
    "# results = RAG_vector_store.search_similar_documents(\"延长学制\", k=5)\n",
    "# results2 = RAG_vector_store.search_similar_documents(\"阿里\", k=5)\n",
    "\n",
    "# print(\"------------------------------\")\n",
    "# print(results)"
   ]
  },
  {
   "cell_type": "code",
   "execution_count": 3,
   "id": "6cc60a15",
   "metadata": {},
   "outputs": [
    {
     "name": "stdout",
     "output_type": "stream",
     "text": [
      "查询: 阿里\n",
      "找到 5 个相关文档:\n",
      "\n",
      "--- 文档 1 ---\n",
      "内容: 我们坚持开源发展的承诺，让通义千问第二代开源模型获得全球开发者的广泛认可。通义千问第二代开源模型在推理、代码生成和数学等领域展现显著的性能提升，同时增强安全功能，扩展至支持27种语言。使用阿里云AI平台（百炼）的付费用户数量环比增长超过200%。\n",
      "\n",
      " \n",
      "\n",
      "2024年巴黎奥运会上，阿里云的技术通过云基础设施实现远程视频制作和传输，在奥运史上首次代替卫星成为主要的传输方式。三分之二的转播商使用阿里云在...\n",
      "来源: ./data/alibaba-2.txt\n",
      "页码: N/A\n",
      "--------------------------------------------------\n",
      "--- 文档 2 ---\n",
      "内容: 本地生活集团\n",
      "\n",
      " \n",
      "\n",
      "截至2024年6月30日止季度，本地生活集团收入同比增长12%至人民币162.29亿元（22.33亿美元），由高德和饿了么订单增长，以及市场营销服务收入增长所带动。本季度，受惠于运营效率改善和业务规模提升，本地生活集团亏损同比大幅收窄。\n",
      "\n",
      " \n",
      "\n",
      "大文娱集团\n",
      "\n",
      " \n",
      "\n",
      "截至2024年6月30日止季度，大文娱集团的收入为人民币55.81亿元（7.68亿美元），同比增长4%，主要由其...\n",
      "来源: ./data/alibaba-2.txt\n",
      "页码: N/A\n",
      "--------------------------------------------------\n",
      "--- 文档 3 ---\n",
      "内容: 我们通过在例如推荐和匹配算法等技术上的投入，以及通过由多元化供应商提供更多有价格竞争力的供给，改善了产品与用户需求的匹配度，提升了用户流量转化为购买力。今年4月，我们推出一款新的AI驱动的全平台市场营销工具“全站推广”，具备自动出价、优化目标人群定位和效果看板可视化功能。该新产品旨在提高商家市场营销投入及改善其市场营销效率，我们看到使用此产品的商家数稳步提升。\n",
      "\n",
      "\n",
      "\n",
      "本季度，我们实现线上GMV同比...\n",
      "来源: ./data/alibaba-2.txt\n",
      "页码: N/A\n",
      "--------------------------------------------------\n",
      "--- 文档 4 ---\n",
      "内容: 阿里巴巴集团公布2024年6月份季度业绩\n",
      "2024年8月15日\n",
      "中国杭州，2024年8月15日 – 阿里巴巴集团控股有限公司（纽交所代码：BABA及港交所代号：9988（港币柜台）及89988（人民币柜台），“阿里巴巴”或“阿里巴巴集团”）今日公布截至2024年6月30日止季度（“本季度”或“6月份季度”）业绩。\n",
      "\n",
      "\n",
      "\n",
      "阿里巴巴集团首席执行官吴泳铭说：“本季度业绩表明我们的战略奏效。我们专注于通过...\n",
      "来源: ./data/alibaba-2.txt\n",
      "页码: N/A\n",
      "--------------------------------------------------\n",
      "--- 文档 5 ---\n",
      "内容: 归属于普通股股东的净利润为人民币242.69亿元（33.40亿美元）。净利润为人民币240.22亿元（33.06亿美元），同比下降27%，主要是由于经营利润下降以及我们的投资减值增加所致，部分被我们所持有的股权投资按市值计价的变动所抵销。截至2024年6月30日止季度，非公认会计准则净利润为人民币406.91亿元（55.99亿美元），相较2023年同期的人民币449.22亿元下降9%。\n",
      "\n",
      "\n",
      "摊薄每...\n",
      "来源: ./data/alibaba-2.txt\n",
      "页码: N/A\n",
      "--------------------------------------------------\n"
     ]
    }
   ],
   "source": [
    "import LLM_functions\n",
    "import data\n",
    "# 测试调用\n",
    "\n",
    "keyword = \"阿里\"\n",
    "\n",
    "result = LLM_functions.generate_QA(keyword=keyword, nums=5, model=\"qwen-plus\", api_key=os.environ.get(\"DASHSCOPE_API_KEY\"))\n",
    "\n"
   ]
  },
  {
   "cell_type": "markdown",
   "id": "815b0b8a",
   "metadata": {},
   "source": [
    "### 3. 将生成的题库保存到本地"
   ]
  },
  {
   "cell_type": "code",
   "execution_count": null,
   "id": "bd5d03f4",
   "metadata": {},
   "outputs": [
    {
     "name": "stdout",
     "output_type": "stream",
     "text": [
      "已成功添加阿里，与原有列表并列\n"
     ]
    }
   ],
   "source": [
    "import question_list\n",
    "\n",
    "# 调用函数添加question_list\n",
    "question_list.add_question_list(\n",
    "    existing_file_path=\"./question_list/question_lists.json\",  # 题库列表\n",
    "    new_list_name=keyword,           # 新列表名称\n",
    "    new_qa_list=result                # 新Q&A数据\n",
    ")"
   ]
  },
  {
   "cell_type": "markdown",
   "id": "c6a6210f",
   "metadata": {},
   "source": [
    "### 4. 后端接口设计\n",
    "\n",
    "- 导入本地文件\n",
    "  - .txt\n",
    "  - .md? // todo\n",
    "  - .pdf\n",
    "- 根据主题检索知识库文段\n",
    "- 文段导入大模型生成QA问答\n",
    "  - 单个文段导入大模型\n",
    "  - 循环生成\n",
    "- 处理生成的QA问答实现数据格式化\n",
    "- 保存生成的题库至本地\n"
   ]
  },
  {
   "cell_type": "markdown",
   "id": "6a40b001",
   "metadata": {},
   "source": [
    "### 5. 使用 gradio 实现前端界面"
   ]
  },
  {
   "cell_type": "code",
   "execution_count": null,
   "id": "90680049",
   "metadata": {},
   "outputs": [
    {
     "ename": "TypeError",
     "evalue": "__init__() missing 2 required positional arguments: 'inputs' and 'outputs'",
     "output_type": "error",
     "traceback": [
      "\u001b[1;31m---------------------------------------------------------------------------\u001b[0m",
      "\u001b[1;31mTypeError\u001b[0m                                 Traceback (most recent call last)",
      "Cell \u001b[1;32mIn[8], line 4\u001b[0m\n\u001b[0;32m      1\u001b[0m \u001b[38;5;28;01mimport\u001b[39;00m\u001b[38;5;250m \u001b[39m\u001b[38;5;21;01mgradio\u001b[39;00m\u001b[38;5;250m \u001b[39m\u001b[38;5;28;01mas\u001b[39;00m\u001b[38;5;250m \u001b[39m\u001b[38;5;21;01mgr\u001b[39;00m\n\u001b[0;32m      3\u001b[0m \u001b[38;5;66;03m# 创建Gradio聊天界面\u001b[39;00m\n\u001b[1;32m----> 4\u001b[0m demo \u001b[38;5;241m=\u001b[39m \u001b[43mgr\u001b[49m\u001b[38;5;241;43m.\u001b[39;49m\u001b[43mInterface\u001b[49m\u001b[43m(\u001b[49m\n\u001b[0;32m      5\u001b[0m \u001b[43m    \u001b[49m\u001b[43mfn\u001b[49m\u001b[38;5;241;43m=\u001b[39;49m\u001b[43mLLM_functions\u001b[49m\u001b[38;5;241;43m.\u001b[39;49m\u001b[43mgenerate_QA\u001b[49m\u001b[43m,\u001b[49m\u001b[43m  \u001b[49m\u001b[38;5;66;43;03m# 传入函数对象，而非调用结果\u001b[39;49;00m\n\u001b[0;32m      6\u001b[0m \u001b[43m    \u001b[49m\u001b[43mtitle\u001b[49m\u001b[38;5;241;43m=\u001b[39;49m\u001b[38;5;124;43m\"\u001b[39;49m\u001b[38;5;124;43m通义千问对话助手\u001b[39;49m\u001b[38;5;124;43m\"\u001b[39;49m\u001b[43m,\u001b[49m\n\u001b[0;32m      7\u001b[0m \u001b[43m    \u001b[49m\u001b[43mdescription\u001b[49m\u001b[38;5;241;43m=\u001b[39;49m\u001b[38;5;124;43m\"\u001b[39;49m\u001b[38;5;124;43m与通义千问模型进行对话，支持多轮交流\u001b[39;49m\u001b[38;5;124;43m\"\u001b[39;49m\n\u001b[0;32m      8\u001b[0m \u001b[43m    \u001b[49m\n\u001b[0;32m      9\u001b[0m \u001b[43m)\u001b[49m\n\u001b[0;32m     11\u001b[0m \u001b[38;5;66;03m# 启动界面\u001b[39;00m\n\u001b[0;32m     12\u001b[0m \u001b[38;5;28;01mif\u001b[39;00m \u001b[38;5;18m__name__\u001b[39m \u001b[38;5;241m==\u001b[39m \u001b[38;5;124m\"\u001b[39m\u001b[38;5;124m__main__\u001b[39m\u001b[38;5;124m\"\u001b[39m:\n",
      "\u001b[1;31mTypeError\u001b[0m: __init__() missing 2 required positional arguments: 'inputs' and 'outputs'"
     ]
    }
   ],
   "source": [
    "import gradio as gr\n",
    "\n",
    "# 创建Gradio聊天界面\n",
    "demo = gr.ChatInterface(\n",
    "    fn=LLM_functions.call_qwen,  # 传入函数对象，而非调用结果\n",
    "    title=\"通义千问对话助手\",\n",
    "    description=\"与通义千问模型进行对话，支持多轮交流\"\n",
    "    \n",
    ")\n",
    "\n",
    "# 启动界面\n",
    "if __name__ == \"__main__\":\n",
    "    demo.launch(share=True)\n"
   ]
  }
 ],
 "metadata": {
  "kernelspec": {
   "display_name": "chatgpt",
   "language": "python",
   "name": "python3"
  },
  "language_info": {
   "codemirror_mode": {
    "name": "ipython",
    "version": 3
   },
   "file_extension": ".py",
   "mimetype": "text/x-python",
   "name": "python",
   "nbconvert_exporter": "python",
   "pygments_lexer": "ipython3",
   "version": "3.9.23"
  }
 },
 "nbformat": 4,
 "nbformat_minor": 5
}
