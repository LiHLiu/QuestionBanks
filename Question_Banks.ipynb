{
 "cells": [
  {
   "cell_type": "markdown",
   "id": "a1733f9a",
   "metadata": {},
   "source": [
    "# 基于大语言模型的题库生成器\n",
    "\n",
    "### 1. 获取 API key 并创建调用 API 的函数\n",
    "\n",
    "首先使用`pip install dashscope`安装阿里云百炼的 Python SDK\n",
    "\n",
    "然后导入相关依赖包，使用`getpass`输入api_key"
   ]
  },
  {
   "cell_type": "code",
   "execution_count": 1,
   "id": "ff691491",
   "metadata": {},
   "outputs": [],
   "source": [
    "from getpass import getpass\n",
    "from dashscope import Generation\n",
    "import data, LLM_functions, interface_gradio, question_list, RAG_vector_store\n",
    "import os\n",
    "# 安全获取API Key（输入时不显示明文）\n",
    "# api_key = getpass(\"请输入阿里云百炼API Key: \")\n",
    "api_key = \"sk-c64994ca9f9741888dc7bccdef2aa0a1\"\n",
    "os.environ[\"DASHSCOPE_API_KEY\"] = api_key\n",
    "Generation.api_key = api_key\n"
   ]
  },
  {
   "cell_type": "markdown",
   "id": "8c18fc15",
   "metadata": {},
   "source": [
    "### 2. 通过关键词检索知识库，并获取相应的文段\n",
    "\n",
    "使用`pip install pypdf faiss-cpu`安装依赖包\n",
    "\n",
    "#### 2.1 初步创建向量数据库，根据所选文件进行切分和向量化\n",
    "#### 2.2 加载已有的向量数据库并添加新文档\n",
    "#### 2.3 根据关键词检索数据库"
   ]
  },
  {
   "cell_type": "code",
   "execution_count": 2,
   "id": "ffc6d304",
   "metadata": {},
   "outputs": [],
   "source": [
    "### 完整RAG流程测试\n",
    "# import RAG_vector_store\n",
    "\n",
    "# RAG_vector_store.create_vector_store(\"./data/sample.pdf\")\n",
    "# RAG_vector_store.add_new_documents_to_vector_store(\"./data/alibaba-2.txt\")\n",
    "# results = RAG_vector_store.search_similar_documents(\"延长学制\", k=5)\n",
    "# results2 = RAG_vector_store.search_similar_documents(\"阿里\", k=5)\n",
    "\n",
    "# print(\"------------------------------\")\n",
    "# print(results)"
   ]
  },
  {
   "cell_type": "code",
   "execution_count": null,
   "id": "6cc60a15",
   "metadata": {},
   "outputs": [
    {
     "name": "stdout",
     "output_type": "stream",
     "text": [
      "查询: 延长学制\n",
      "找到 5 个相关文档:\n",
      "\n",
      "--- 文档 1 ---\n",
      "内容: — 13 —\n",
      "阶段）；临床医学八年制本博连读生的博士研究生阶段基本修业\n",
      "年限为4 年。\n",
      "基本修业年限由各学科专业在本办法规定的年限内予以明\n",
      "确。“强基计划”等本研贯通项目录取转段的研究生基本修业年\n",
      "限要求依据相关项目培养规定确定。\n",
      "第二十八条 研究生在基本修业年限内不能完成学业的，可\n",
      "申请延长修业年限（以下简称延期）。全日制博士研究生最长修\n",
      "业年限为在原基本修业年限基础上延长 2 年；全日制硕士研...\n",
      "来源: ./data/sample.pdf\n",
      "页码: 12\n",
      "--------------------------------------------------\n",
      "--- 文档 2 ---\n",
      "内容: — 22 —\n",
      "包括本数；所称的“不满”“超过”，不包括本数。\n",
      "第五十六条 本办法由研究生院负责解释。\n",
      "第五十七条 本办法自发布之日起施行，《浙江大学研究生\n",
      "学籍管理实施办法》（浙大发研〔2017〕115 号）同时废止。本\n",
      "办法实施之前已入学的研究生，可以继续适用原办法。\n",
      "抄送：纪委，各院级党委，党委各部门，各党工委，工会、团委。\n",
      "浙江大学校长办公室 主动公开 2024 年8 月16 日印发...\n",
      "来源: ./data/sample.pdf\n",
      "页码: 21\n",
      "--------------------------------------------------\n",
      "--- 文档 3 ---\n",
      "内容: — 2 —\n",
      "浙江大学研究生学籍管理实施办法\n",
      "第一章 总 则\n",
      "第一条 为全面贯彻国家教育方针，规范研究生学籍管理，\n",
      "维护研究生正常教育教学秩序，保障研究生身心健康与合法权\n",
      "益，促进研究生全面发展，依据教育部《普通高等学校学生管理\n",
      "规定》（中华人民共和国教育部令第 41 号），制定本办法。\n",
      "第二条 本办法适用于学校对接受普通高等学历教育的研\n",
      "究生的管理。\n",
      "第二章 新生入学\n",
      "第三条 研究生新生应当在学校...\n",
      "来源: ./data/sample.pdf\n",
      "页码: 1\n",
      "--------------------------------------------------\n",
      "--- 文档 4 ---\n",
      "内容: — 12 —\n",
      "超过 12 个月，且计入最长修业年限。创业休学、生育休学、因\n",
      "公出国（境）单次 6 个月以上研究生的修业年限以第二十九条规\n",
      "定为准。\n",
      "第二十五条 研究生应当在休学期满前由本人提出复学申\n",
      "请，在“浙江大学研究生教育管理信息系统”中填写《浙江大学\n",
      "研究生学籍异动复学申请表》，由导师（或者导师组主导师）、学\n",
      "院（系）同意，报研究生院审核批准后方为有效。对准予复学的\n",
      "研究生由研究生院给予注册...\n",
      "来源: ./data/sample.pdf\n",
      "页码: 11\n",
      "--------------------------------------------------\n",
      "--- 文档 5 ---\n",
      "内容: — 1 —\n",
      "浙 江 大 学 文 件\n",
      "浙大发研〔2024〕34 号\n",
      "浙江大学印发《浙江大学研究生学籍管理\n",
      "实施办法》的通知\n",
      "各学院（系），行政各部门，各校区管委会，直属各单位：\n",
      "经学校研究决定，现将《浙江大学研究生学籍管理实施办法》\n",
      "印发给你们，请遵照执行。\n",
      "浙江大学\n",
      "2024 年8 月15 日...\n",
      "来源: ./data/sample.pdf\n",
      "页码: 0\n",
      "--------------------------------------------------\n"
     ]
    }
   ],
   "source": [
    "import LLM_functions\n",
    "# 测试调用\n",
    "\n",
    "keyword = \"阿里\"\n",
    "result = LLM_functions.generate_QA(keyword=keyword, nums=5, model=\"qwen-plus\", api_key=os.environ.get(\"DASHSCOPE_API_KEY\"))"
   ]
  },
  {
   "cell_type": "code",
   "execution_count": 10,
   "id": "b0607f90",
   "metadata": {},
   "outputs": [
    {
     "name": "stdout",
     "output_type": "stream",
     "text": [
      "{'Q': '研究生新生因故不能按期入学，应如何办理请假手续？', 'A': '应当事先向学院（系）研究生管理部门书面请假，并附相关证明材料，经学院（系）分管领导批准后生效。'}\n",
      "<class 'dict'>\n",
      "应当提前向学校教务处口头请假，并提交相关证明材料，经教务处审批后生效。  \n",
      "可以先暂缓入学，待情况稳定后再向研究生院提交补办入学手续申请。  \n",
      "应直接联系校团委办理请假手续，并提供相关证明，由校团委负责人签字同意即可。\n",
      "<class 'str'>\n"
     ]
    }
   ],
   "source": [
    "### 测试：根据题库答案生成干扰选项\n",
    "print(result[3])\n",
    "print(type(result[3]))\n",
    "\n",
    "# 生成选择题\n",
    "ans = LLM_functions.generate_options(\n",
    "    answer=str(result[3]),\n",
    ")\n",
    "print(ans)\n",
    "print(type(ans))\n",
    "\n",
    "# 生成填空题\n",
    "# LLM_functions.generate_fill_in_the_blank(\n",
    "#     QA=str(result[3]),\n",
    "# )"
   ]
  },
  {
   "cell_type": "markdown",
   "id": "815b0b8a",
   "metadata": {},
   "source": [
    "### 3. 将生成的题库保存到本地"
   ]
  },
  {
   "cell_type": "code",
   "execution_count": 5,
   "id": "bd5d03f4",
   "metadata": {},
   "outputs": [
    {
     "name": "stdout",
     "output_type": "stream",
     "text": [
      "已成功添加延长学制，与原有列表并列\n"
     ]
    }
   ],
   "source": [
    "import question_list\n",
    "\n",
    "# 调用函数添加question_list\n",
    "question_list.add_question_list(\n",
    "    existing_file_path=\"./question_list/question_lists.json\", \n",
    "    new_list_name=keyword,\n",
    "    new_qa_list=result\n",
    ")"
   ]
  },
  {
   "cell_type": "markdown",
   "id": "c6a6210f",
   "metadata": {},
   "source": [
    "### 4. 后端接口设计\n",
    "\n",
    "- 导入本地文件\n",
    "  - .txt\n",
    "  - .md?\n",
    "  - .pdf\n",
    "- 根据主题检索知识库文段\n",
    "- 文段导入大模型生成QA问答\n",
    "  - 单个文段导入大模型\n",
    "  - 循环生成\n",
    "- 处理生成的QA问答实现数据格式化\n",
    "- 保存生成的题库至本地\n"
   ]
  },
  {
   "cell_type": "markdown",
   "id": "6a40b001",
   "metadata": {},
   "source": [
    "### 5. 使用 gradio 实现前端界面"
   ]
  },
  {
   "cell_type": "code",
   "execution_count": null,
   "id": "90680049",
   "metadata": {},
   "outputs": [
    {
     "name": "stdout",
     "output_type": "stream",
     "text": [
      "Running on local URL:  http://127.0.0.1:7860\n",
      "\n",
      "To create a public link, set `share=True` in `launch()`.\n"
     ]
    },
    {
     "data": {
      "text/html": [
       "<div><iframe src=\"http://127.0.0.1:7860/\" width=\"100%\" height=\"500\" allow=\"autoplay; camera; microphone; clipboard-read; clipboard-write;\" frameborder=\"0\" allowfullscreen></iframe></div>"
      ],
      "text/plain": [
       "<IPython.core.display.HTML object>"
      ]
     },
     "metadata": {},
     "output_type": "display_data"
    },
    {
     "name": "stderr",
     "output_type": "stream",
     "text": [
      "Exception in thread Thread-9:\n",
      "Traceback (most recent call last):\n",
      "  File \"d:\\anaconda\\envs\\chatgpt\\lib\\site-packages\\httpx\\_transports\\default.py\", line 101, in map_httpcore_exceptions\n",
      "    yield\n",
      "  File \"d:\\anaconda\\envs\\chatgpt\\lib\\site-packages\\httpx\\_transports\\default.py\", line 250, in handle_request\n",
      "    resp = self._pool.handle_request(req)\n",
      "  File \"d:\\anaconda\\envs\\chatgpt\\lib\\site-packages\\httpcore\\_sync\\connection_pool.py\", line 256, in handle_request\n",
      "    raise exc from None\n",
      "  File \"d:\\anaconda\\envs\\chatgpt\\lib\\site-packages\\httpcore\\_sync\\connection_pool.py\", line 236, in handle_request\n",
      "    response = connection.handle_request(\n",
      "  File \"d:\\anaconda\\envs\\chatgpt\\lib\\site-packages\\httpcore\\_sync\\http_proxy.py\", line 316, in handle_request\n",
      "    stream = stream.start_tls(**kwargs)\n",
      "  File \"d:\\anaconda\\envs\\chatgpt\\lib\\site-packages\\httpcore\\_sync\\http11.py\", line 376, in start_tls\n",
      "    return self._stream.start_tls(ssl_context, server_hostname, timeout)\n",
      "  File \"d:\\anaconda\\envs\\chatgpt\\lib\\site-packages\\httpcore\\_backends\\sync.py\", line 170, in start_tls\n",
      "    raise exc\n",
      "  File \"d:\\anaconda\\envs\\chatgpt\\lib\\contextlib.py\", line 137, in __exit__\n",
      "    self.gen.throw(typ, value, traceback)\n",
      "  File \"d:\\anaconda\\envs\\chatgpt\\lib\\site-packages\\httpcore\\_exceptions.py\", line 14, in map_exceptions\n",
      "    raise to_exc(exc) from exc\n",
      "httpcore.ConnectTimeout: _ssl.c:1130: The handshake operation timed out\n",
      "\n",
      "The above exception was the direct cause of the following exception:\n",
      "\n",
      "Traceback (most recent call last):\n",
      "  File \"d:\\anaconda\\envs\\chatgpt\\lib\\threading.py\", line 980, in _bootstrap_inner\n",
      "    self.run()\n",
      "  File \"d:\\anaconda\\envs\\chatgpt\\lib\\site-packages\\ipykernel\\ipkernel.py\", line 766, in run_closure\n",
      "    _threading_Thread_run(self)\n",
      "  File \"d:\\anaconda\\envs\\chatgpt\\lib\\threading.py\", line 917, in run\n",
      "    self._target(*self._args, **self._kwargs)\n",
      "  File \"d:\\anaconda\\envs\\chatgpt\\lib\\site-packages\\gradio\\analytics.py\", line 70, in _do_normal_analytics_request\n",
      "    data[\"ip_address\"] = get_local_ip_address()\n",
      "  File \"d:\\anaconda\\envs\\chatgpt\\lib\\site-packages\\gradio\\analytics.py\", line 131, in get_local_ip_address\n",
      "    ip_address = httpx.get(\n",
      "  File \"d:\\anaconda\\envs\\chatgpt\\lib\\site-packages\\httpx\\_api.py\", line 195, in get\n",
      "    return request(\n",
      "  File \"d:\\anaconda\\envs\\chatgpt\\lib\\site-packages\\httpx\\_api.py\", line 109, in request\n",
      "    return client.request(\n",
      "  File \"d:\\anaconda\\envs\\chatgpt\\lib\\site-packages\\httpx\\_client.py\", line 825, in request\n",
      "    return self.send(request, auth=auth, follow_redirects=follow_redirects)\n",
      "  File \"d:\\anaconda\\envs\\chatgpt\\lib\\site-packages\\httpx\\_client.py\", line 914, in send\n",
      "    response = self._send_handling_auth(\n",
      "  File \"d:\\anaconda\\envs\\chatgpt\\lib\\site-packages\\httpx\\_client.py\", line 942, in _send_handling_auth\n",
      "    response = self._send_handling_redirects(\n",
      "  File \"d:\\anaconda\\envs\\chatgpt\\lib\\site-packages\\httpx\\_client.py\", line 979, in _send_handling_redirects\n",
      "    response = self._send_single_request(request)\n",
      "  File \"d:\\anaconda\\envs\\chatgpt\\lib\\site-packages\\httpx\\_client.py\", line 1014, in _send_single_request\n",
      "    response = transport.handle_request(request)\n",
      "  File \"d:\\anaconda\\envs\\chatgpt\\lib\\site-packages\\httpx\\_transports\\default.py\", line 250, in handle_request\n",
      "    resp = self._pool.handle_request(req)\n",
      "  File \"d:\\anaconda\\envs\\chatgpt\\lib\\contextlib.py\", line 137, in __exit__\n",
      "    self.gen.throw(typ, value, traceback)\n",
      "  File \"d:\\anaconda\\envs\\chatgpt\\lib\\site-packages\\httpx\\_transports\\default.py\", line 118, in map_httpcore_exceptions\n",
      "    raise mapped_exc(message) from exc\n",
      "httpx.ConnectTimeout: _ssl.c:1130: The handshake operation timed out\n"
     ]
    },
    {
     "name": "stdout",
     "output_type": "stream",
     "text": [
      "查询: 基本年限\n",
      "找到 1 个相关文档:\n",
      "\n",
      "--- 文档 1 ---\n",
      "内容: — 13 —\n",
      "阶段）；临床医学八年制本博连读生的博士研究生阶段基本修业\n",
      "年限为4 年。\n",
      "基本修业年限由各学科专业在本办法规定的年限内予以明\n",
      "确。“强基计划”等本研贯通项目录取转段的研究生基本修业年\n",
      "限要求依据相关项目培养规定确定。\n",
      "第二十八条 研究生在基本修业年限内不能完成学业的，可\n",
      "申请延长修业年限（以下简称延期）。全日制博士研究生最长修\n",
      "业年限为在原基本修业年限基础上延长 2 年；全日制硕士研...\n",
      "来源: ./data/sample.pdf\n",
      "页码: 12\n",
      "--------------------------------------------------\n",
      "已成功添加基本年限，与原有列表并列\n"
     ]
    }
   ],
   "source": [
    "import interface_gradio\n",
    "\n",
    "# 启动gradio界面\n",
    "if __name__ == \"__main__\":\n",
    "    # demo.launch(share=True)\n",
    "    interface_gradio.create_main_interface().launch(share=False)\n"
   ]
  }
 ],
 "metadata": {
  "kernelspec": {
   "display_name": "chatgpt",
   "language": "python",
   "name": "python3"
  },
  "language_info": {
   "codemirror_mode": {
    "name": "ipython",
    "version": 3
   },
   "file_extension": ".py",
   "mimetype": "text/x-python",
   "name": "python",
   "nbconvert_exporter": "python",
   "pygments_lexer": "ipython3",
   "version": "3.9.23"
  }
 },
 "nbformat": 4,
 "nbformat_minor": 5
}
